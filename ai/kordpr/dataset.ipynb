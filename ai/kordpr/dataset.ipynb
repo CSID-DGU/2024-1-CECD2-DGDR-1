{
 "cells": [
  {
   "cell_type": "code",
   "execution_count": 1,
   "metadata": {
    "collapsed": true,
    "jupyter": {
     "outputs_hidden": true
    }
   },
   "outputs": [
    {
     "name": "stderr",
     "output_type": "stream",
     "text": [
      "/home/leadawon5/gitfiles/venvs/huggvenv/lib/python3.7/site-packages/tqdm/auto.py:21: TqdmWarning: IProgress not found. Please update jupyter and ipywidgets. See https://ipywidgets.readthedocs.io/en/stable/user_install.html\n",
      "  from .autonotebook import tqdm as notebook_tqdm\n",
      "Downloading readme: 100%|███████████████████████| 126/126 [00:00<00:00, 387kB/s]\n"
     ]
    },
    {
     "name": "stdout",
     "output_type": "stream",
     "text": [
      "Downloading and preparing dataset wikipedia/20221001.ko (download: 690.36 MiB, generated: 1.22 GiB, post-processed: Unknown size, total: 1.89 GiB) to /home/leadawon5/.cache/huggingface/datasets/lcw99___parquet/lcw99--wikipedia-korean-20221001-9830ebd1e9d8f166/0.0.0/14a00e99c0d15a23649d0db8944380ac81082d4b021f398733dd84f3a6c569a7...\n"
     ]
    },
    {
     "name": "stderr",
     "output_type": "stream",
     "text": [
      "Downloading data files:   0%|                             | 0/1 [00:00<?, ?it/s]\n",
      "Downloading data:   0%|                              | 0.00/375M [00:00<?, ?B/s]\u001b[A\n",
      "Downloading data:   1%|▎                    | 5.53M/375M [00:00<00:06, 55.3MB/s]\u001b[A\n",
      "Downloading data:   3%|▋                    | 12.0M/375M [00:00<00:05, 60.9MB/s]\u001b[A\n",
      "Downloading data:   5%|█                    | 18.5M/375M [00:00<00:05, 62.8MB/s]\u001b[A\n",
      "Downloading data:   7%|█▍                   | 25.0M/375M [00:00<00:05, 63.7MB/s]\u001b[A\n",
      "Downloading data:   8%|█▊                   | 31.5M/375M [00:00<00:05, 64.2MB/s]\u001b[A\n",
      "Downloading data:  10%|██▏                  | 38.1M/375M [00:00<00:05, 64.5MB/s]\u001b[A\n",
      "Downloading data:  12%|██▍                  | 44.6M/375M [00:00<00:05, 64.7MB/s]\u001b[A\n",
      "Downloading data:  14%|██▊                  | 51.1M/375M [00:00<00:05, 64.6MB/s]\u001b[A\n",
      "Downloading data:  15%|███▏                 | 57.6M/375M [00:00<00:04, 64.7MB/s]\u001b[A\n",
      "Downloading data:  17%|███▌                 | 64.0M/375M [00:01<00:04, 64.7MB/s]\u001b[A\n",
      "Downloading data:  19%|███▉                 | 70.5M/375M [00:01<00:04, 64.8MB/s]\u001b[A\n",
      "Downloading data:  21%|████▎                | 77.1M/375M [00:01<00:04, 65.0MB/s]\u001b[A\n",
      "Downloading data:  22%|████▋                | 83.6M/375M [00:01<00:04, 65.1MB/s]\u001b[A\n",
      "Downloading data:  24%|█████                | 90.2M/375M [00:01<00:04, 65.2MB/s]\u001b[A\n",
      "Downloading data:  26%|█████▍               | 96.7M/375M [00:01<00:04, 65.4MB/s]\u001b[A\n",
      "Downloading data:  28%|██████                | 103M/375M [00:01<00:04, 65.4MB/s]\u001b[A\n",
      "Downloading data:  29%|██████▍               | 110M/375M [00:01<00:04, 65.4MB/s]\u001b[A\n",
      "Downloading data:  31%|██████▊               | 116M/375M [00:01<00:03, 65.4MB/s]\u001b[A\n",
      "Downloading data:  33%|███████▏              | 123M/375M [00:01<00:03, 65.2MB/s]\u001b[A\n",
      "Downloading data:  35%|███████▌              | 130M/375M [00:02<00:03, 65.4MB/s]\u001b[A\n",
      "Downloading data:  36%|███████▉              | 136M/375M [00:02<00:03, 65.6MB/s]\u001b[A\n",
      "Downloading data:  38%|████████▍             | 143M/375M [00:02<00:03, 65.6MB/s]\u001b[A\n",
      "Downloading data:  40%|████████▊             | 149M/375M [00:02<00:03, 65.5MB/s]\u001b[A\n",
      "Downloading data:  42%|█████████▏            | 156M/375M [00:02<00:03, 65.5MB/s]\u001b[A\n",
      "Downloading data:  43%|█████████▌            | 162M/375M [00:02<00:03, 65.6MB/s]\u001b[A\n",
      "Downloading data:  45%|█████████▉            | 169M/375M [00:02<00:03, 65.5MB/s]\u001b[A\n",
      "Downloading data:  47%|██████████▎           | 176M/375M [00:02<00:03, 65.6MB/s]\u001b[A\n",
      "Downloading data:  49%|██████████▋           | 182M/375M [00:02<00:02, 65.6MB/s]\u001b[A\n",
      "Downloading data:  50%|███████████           | 189M/375M [00:02<00:02, 65.3MB/s]\u001b[A\n",
      "Downloading data:  52%|███████████▍          | 195M/375M [00:03<00:02, 64.7MB/s]\u001b[A\n",
      "Downloading data:  54%|███████████▊          | 202M/375M [00:03<00:02, 64.8MB/s]\u001b[A\n",
      "Downloading data:  56%|████████████▏         | 208M/375M [00:03<00:02, 64.9MB/s]\u001b[A\n",
      "Downloading data:  57%|████████████▌         | 215M/375M [00:03<00:02, 64.9MB/s]\u001b[A\n",
      "Downloading data:  59%|████████████▉         | 221M/375M [00:03<00:02, 64.9MB/s]\u001b[A\n",
      "Downloading data:  61%|█████████████▎        | 228M/375M [00:03<00:02, 64.9MB/s]\u001b[A\n",
      "Downloading data:  63%|█████████████▊        | 234M/375M [00:03<00:02, 65.0MB/s]\u001b[A\n",
      "Downloading data:  64%|██████████████▏       | 241M/375M [00:03<00:02, 65.0MB/s]\u001b[A\n",
      "Downloading data:  66%|██████████████▌       | 247M/375M [00:03<00:01, 65.2MB/s]\u001b[A\n",
      "Downloading data:  68%|██████████████▉       | 254M/375M [00:03<00:01, 65.1MB/s]\u001b[A\n",
      "Downloading data:  69%|███████████████▎      | 260M/375M [00:04<00:01, 65.1MB/s]\u001b[A\n",
      "Downloading data:  71%|███████████████▋      | 267M/375M [00:04<00:01, 64.9MB/s]\u001b[A\n",
      "Downloading data:  73%|████████████████      | 273M/375M [00:04<00:01, 64.9MB/s]\u001b[A\n",
      "Downloading data:  75%|████████████████▍     | 280M/375M [00:04<00:01, 65.0MB/s]\u001b[A\n",
      "Downloading data:  76%|████████████████▊     | 286M/375M [00:04<00:01, 64.8MB/s]\u001b[A\n",
      "Downloading data:  78%|█████████████████▏    | 293M/375M [00:04<00:01, 64.7MB/s]\u001b[A\n",
      "Downloading data:  80%|█████████████████▌    | 299M/375M [00:04<00:01, 65.0MB/s]\u001b[A\n",
      "Downloading data:  82%|█████████████████▉    | 306M/375M [00:04<00:01, 65.0MB/s]\u001b[A\n",
      "Downloading data:  83%|██████████████████▎   | 312M/375M [00:04<00:00, 65.1MB/s]\u001b[A\n",
      "Downloading data:  85%|██████████████████▋   | 319M/375M [00:04<00:00, 65.0MB/s]\u001b[A\n",
      "Downloading data:  87%|███████████████████   | 325M/375M [00:05<00:00, 65.0MB/s]\u001b[A\n",
      "Downloading data:  89%|███████████████████▍  | 332M/375M [00:05<00:00, 64.9MB/s]\u001b[A\n",
      "Downloading data:  90%|███████████████████▊  | 338M/375M [00:05<00:00, 64.8MB/s]\u001b[A\n",
      "Downloading data:  92%|████████████████████▎ | 345M/375M [00:05<00:00, 64.9MB/s]\u001b[A\n",
      "Downloading data:  94%|████████████████████▋ | 351M/375M [00:05<00:00, 65.1MB/s]\u001b[A\n",
      "Downloading data:  96%|█████████████████████ | 358M/375M [00:05<00:00, 65.1MB/s]\u001b[A\n",
      "Downloading data:  97%|█████████████████████▍| 365M/375M [00:05<00:00, 65.3MB/s]\u001b[A\n",
      "Downloading data: 100%|██████████████████████| 375M/375M [00:05<00:00, 65.0MB/s]\u001b[A\n",
      "\n",
      "Downloading data:   0%|                              | 0.00/188M [00:00<?, ?B/s]\u001b[A\n",
      "Downloading data:   3%|▌                    | 5.50M/188M [00:00<00:03, 55.0MB/s]\u001b[A\n",
      "Downloading data:   6%|█▎                   | 12.1M/188M [00:00<00:02, 61.4MB/s]\u001b[A\n",
      "Downloading data:  10%|██                   | 18.7M/188M [00:00<00:02, 63.7MB/s]\u001b[A\n",
      "Downloading data:  13%|██▊                  | 25.3M/188M [00:00<00:02, 64.4MB/s]\u001b[A\n",
      "Downloading data:  17%|███▌                 | 31.9M/188M [00:00<00:02, 65.0MB/s]\u001b[A\n",
      "Downloading data:  21%|████▎                | 38.5M/188M [00:00<00:02, 65.3MB/s]\u001b[A\n",
      "Downloading data:  24%|█████                | 45.1M/188M [00:00<00:02, 65.5MB/s]\u001b[A\n",
      "Downloading data:  28%|█████▊               | 51.7M/188M [00:00<00:02, 65.8MB/s]\u001b[A\n",
      "Downloading data:  31%|██████▌              | 58.4M/188M [00:00<00:01, 66.1MB/s]\u001b[A\n",
      "Downloading data:  35%|███████▎             | 65.0M/188M [00:01<00:01, 66.1MB/s]\u001b[A\n",
      "Downloading data:  38%|████████             | 71.6M/188M [00:01<00:01, 66.1MB/s]\u001b[A\n",
      "Downloading data:  42%|████████▊            | 78.3M/188M [00:01<00:01, 66.3MB/s]\u001b[A\n",
      "Downloading data:  45%|█████████▌           | 85.0M/188M [00:01<00:01, 66.2MB/s]\u001b[A\n",
      "Downloading data:  49%|██████████▏          | 91.6M/188M [00:01<00:01, 66.2MB/s]\u001b[A\n",
      "Downloading data:  52%|██████████▉          | 98.2M/188M [00:01<00:01, 66.3MB/s]\u001b[A\n",
      "Downloading data:  56%|████████████▎         | 105M/188M [00:01<00:01, 66.3MB/s]\u001b[A\n",
      "Downloading data:  59%|█████████████         | 111M/188M [00:01<00:01, 66.0MB/s]\u001b[A\n",
      "Downloading data:  63%|█████████████▊        | 118M/188M [00:01<00:01, 66.0MB/s]\u001b[A\n",
      "Downloading data:  66%|██████████████▋       | 125M/188M [00:01<00:00, 66.2MB/s]\u001b[A\n",
      "Downloading data:  70%|███████████████▍      | 131M/188M [00:02<00:00, 66.2MB/s]\u001b[A\n",
      "Downloading data:  74%|████████████████▏     | 138M/188M [00:02<00:00, 66.3MB/s]\u001b[A\n",
      "Downloading data:  77%|████████████████▉     | 145M/188M [00:02<00:00, 66.4MB/s]\u001b[A\n",
      "Downloading data:  81%|█████████████████▋    | 151M/188M [00:02<00:00, 66.4MB/s]\u001b[A\n",
      "Downloading data:  84%|██████████████████▌   | 158M/188M [00:02<00:00, 66.4MB/s]\u001b[A\n",
      "Downloading data:  88%|███████████████████▎  | 165M/188M [00:02<00:00, 66.5MB/s]\u001b[A\n",
      "Downloading data:  91%|████████████████████  | 171M/188M [00:02<00:00, 66.2MB/s]\u001b[A\n",
      "Downloading data:  95%|████████████████████▊ | 178M/188M [00:02<00:00, 66.1MB/s]\u001b[A\n",
      "Downloading data: 100%|██████████████████████| 188M/188M [00:02<00:00, 65.8MB/s]\u001b[A\n",
      "\n",
      "Downloading data:   0%|                              | 0.00/162M [00:00<?, ?B/s]\u001b[A\n",
      "Downloading data:   3%|▋                    | 5.46M/162M [00:00<00:02, 54.6MB/s]\u001b[A\n",
      "Downloading data:   7%|█▌                   | 11.9M/162M [00:00<00:02, 60.6MB/s]\u001b[A\n",
      "Downloading data:  11%|██▍                  | 18.4M/162M [00:00<00:02, 62.5MB/s]\u001b[A\n",
      "Downloading data:  15%|███▏                 | 24.9M/162M [00:00<00:02, 63.5MB/s]\u001b[A\n",
      "Downloading data:  19%|████                 | 31.5M/162M [00:00<00:02, 64.3MB/s]\u001b[A\n",
      "Downloading data:  24%|████▉                | 38.1M/162M [00:00<00:01, 64.9MB/s]\u001b[A\n",
      "Downloading data:  28%|█████▊               | 44.7M/162M [00:00<00:01, 65.2MB/s]\u001b[A\n",
      "Downloading data:  32%|██████▋              | 51.3M/162M [00:00<00:01, 65.4MB/s]\u001b[A\n",
      "Downloading data:  36%|███████▌             | 57.9M/162M [00:00<00:01, 65.6MB/s]\u001b[A\n",
      "Downloading data:  40%|████████▎            | 64.4M/162M [00:01<00:01, 65.6MB/s]\u001b[A\n",
      "Downloading data:  44%|█████████▏           | 71.0M/162M [00:01<00:01, 65.6MB/s]\u001b[A\n",
      "Downloading data:  48%|██████████           | 77.6M/162M [00:01<00:01, 65.8MB/s]\u001b[A\n",
      "Downloading data:  52%|██████████▉          | 84.2M/162M [00:01<00:01, 66.0MB/s]\u001b[A\n",
      "Downloading data:  56%|███████████▊         | 90.8M/162M [00:01<00:01, 65.9MB/s]\u001b[A\n",
      "Downloading data:  60%|████████████▋        | 97.4M/162M [00:01<00:00, 65.9MB/s]\u001b[A\n",
      "Downloading data:  64%|██████████████▏       | 104M/162M [00:01<00:00, 65.8MB/s]\u001b[A\n",
      "Downloading data:  68%|███████████████       | 111M/162M [00:01<00:00, 65.7MB/s]\u001b[A\n",
      "Downloading data:  73%|███████████████▉      | 117M/162M [00:01<00:00, 65.7MB/s]\u001b[A\n",
      "Downloading data:  77%|████████████████▊     | 124M/162M [00:01<00:00, 65.8MB/s]\u001b[A\n",
      "Downloading data:  81%|█████████████████▊    | 130M/162M [00:02<00:00, 65.8MB/s]\u001b[A\n",
      "Downloading data:  85%|██████████████████▋   | 137M/162M [00:02<00:00, 65.8MB/s]\u001b[A\n",
      "Downloading data:  89%|███████████████████▌  | 144M/162M [00:02<00:00, 65.8MB/s]\u001b[A\n",
      "Downloading data:  93%|████████████████████▍ | 150M/162M [00:02<00:00, 65.7MB/s]\u001b[A\n",
      "Downloading data: 100%|██████████████████████| 162M/162M [00:02<00:00, 65.2MB/s]\u001b[A\n",
      "Downloading data files: 100%|█████████████████████| 1/1 [00:16<00:00, 16.96s/it]\n",
      "Extracting data files: 100%|██████████████████████| 1/1 [00:00<00:00, 11.61it/s]\n",
      "                                                                                \r"
     ]
    },
    {
     "name": "stdout",
     "output_type": "stream",
     "text": [
      "Dataset parquet downloaded and prepared to /home/leadawon5/.cache/huggingface/datasets/lcw99___parquet/lcw99--wikipedia-korean-20221001-9830ebd1e9d8f166/0.0.0/14a00e99c0d15a23649d0db8944380ac81082d4b021f398733dd84f3a6c569a7. Subsequent calls will reuse this data.\n"
     ]
    },
    {
     "name": "stderr",
     "output_type": "stream",
     "text": [
      "100%|█████████████████████████████████████████████| 1/1 [00:00<00:00,  1.27it/s]\n"
     ]
    }
   ],
   "source": [
    "from datasets import load_dataset\n",
    "ds = load_dataset(\"lcw99/wikipedia-korean-20221001\")"
   ]
  },
  {
   "cell_type": "code",
   "execution_count": 2,
   "metadata": {},
   "outputs": [],
   "source": [
    "# ds['train'][0]"
   ]
  },
  {
   "cell_type": "code",
   "execution_count": 3,
   "metadata": {},
   "outputs": [],
   "source": [
    "with open('text/AA/wikipedia.txt', 'w', encoding='utf-8') as file:\n",
    "    pass\n",
    "\n",
    "for i in range(10):\n",
    "    with open('text/AA/wikipedia.txt', 'a', encoding='utf-8') as file:\n",
    "        file.write(ds['train'][i]['text']+\"</doc>\")"
   ]
  },
  {
   "cell_type": "code",
   "execution_count": null,
   "metadata": {},
   "outputs": [],
   "source": []
  }
 ],
 "metadata": {
  "kernelspec": {
   "display_name": "huggvenv",
   "language": "python",
   "name": "huggvenv"
  },
  "language_info": {
   "codemirror_mode": {
    "name": "ipython",
    "version": 3
   },
   "file_extension": ".py",
   "mimetype": "text/x-python",
   "name": "python",
   "nbconvert_exporter": "python",
   "pygments_lexer": "ipython3",
   "version": "3.7.6"
  }
 },
 "nbformat": 4,
 "nbformat_minor": 4
}
