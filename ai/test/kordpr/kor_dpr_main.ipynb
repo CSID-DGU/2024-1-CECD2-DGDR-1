{
 "cells": [
  {
   "cell_type": "code",
   "execution_count": null,
   "metadata": {},
   "outputs": [],
   "source": [
    "import requests\n",
    "from aws_requests_auth.aws_auth import AWSRequestsAuth\n",
    "import json\n",
    "\n",
    "# AWS 설정 (파일에서 읽기)\n",
    "with open('../../../../keys/aws_accesskey.txt', 'r') as f:\n",
    "    access_key = f.read().strip()\n",
    "\n",
    "with open('../../../../keys/aws_secretkey.txt', 'r') as f:\n",
    "    secret_key = f.read().strip()\n",
    "\n",
    "# 기타 AWS 정보\n",
    "region = 'ap-northeast-2'\n",
    "service = 'sagemaker'\n",
    "endpoint = 'runtime.sagemaker.ap-northeast-2.amazonaws.com'\n",
    "url = 'https://runtime.sagemaker.ap-northeast-2.amazonaws.com/endpoints/dawoncecdEP/invocations'\n",
    "\n",
    "# AWS Signature V4 인증 설정\n",
    "auth = AWSRequestsAuth(\n",
    "    aws_access_key=access_key,\n",
    "    aws_secret_access_key=secret_key,\n",
    "    aws_host=endpoint,\n",
    "    aws_region=region,\n",
    "    aws_service=service\n",
    ")\n",
    "\n",
    "# 요청 본문 (JSON)\n",
    "data = {\n",
    "    \"text\": \"sample\"\n",
    "}\n",
    "\n",
    "# POST 요청 보내기\n",
    "response = requests.post(url, auth=auth, json=data)\n",
    "\n",
    "# 응답 출력\n",
    "print(\"Response Code:\", response.status_code)\n",
    "print(\"Response Body:\", response.text)\n"
   ]
  },
  {
   "cell_type": "code",
   "execution_count": null,
   "metadata": {},
   "outputs": [],
   "source": []
  }
 ],
 "metadata": {
  "kernelspec": {
   "display_name": "myvenv",
   "language": "python",
   "name": "myvenv"
  },
  "language_info": {
   "name": "python",
   "version": "3.12.3"
  }
 },
 "nbformat": 4,
 "nbformat_minor": 2
}
