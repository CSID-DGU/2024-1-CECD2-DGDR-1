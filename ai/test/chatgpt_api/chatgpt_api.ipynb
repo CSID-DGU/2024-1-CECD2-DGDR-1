{
 "cells": [
  {
   "cell_type": "code",
   "execution_count": 9,
   "metadata": {},
   "outputs": [],
   "source": [
    "#chatgpt api\n",
    "\n",
    "\n",
    "\n",
    "import openai\n",
    "import numpy as np\n",
    "from sklearn.metrics.pairwise import cosine_similarity\n",
    "\n",
    "# API 키 설정 (파일에서 읽어오기)\n",
    "key_file_path = \"../../../../keys/chatgpt.txt\"\n",
    "with open(key_file_path, 'r') as key_file:\n",
    "    openai.api_key = key_file.read().strip()\n",
    "\n",
    "\n",
    "# OpenAI 임베딩 API를 통해 임베딩 벡터를 얻는 함수 (새로운 API)\n",
    "def get_embedding(text, model=\"text-embedding-ada-002\"):\n",
    "    response = openai.embeddings.create(\n",
    "        input=text,\n",
    "        model=model\n",
    "    )\n",
    "    # response에서 data 속성을 직접 접근하여 임베딩 값 반환\n",
    "    return response.data[0].embedding\n",
    "\n",
    "# 코사인 유사도 계산 함수\n",
    "def cosine_similarity_vectors(vec1, vec2):\n",
    "    vec1 = np.array(vec1).reshape(1, -1)\n",
    "    vec2 = np.array(vec2).reshape(1, -1)\n",
    "    return cosine_similarity(vec1, vec2)[0][0]\n",
    "\n",
    "\n"
   ]
  },
  {
   "cell_type": "code",
   "execution_count": 10,
   "metadata": {},
   "outputs": [],
   "source": [
    "# 문서와 쿼리 정의\n",
    "documents = [\n",
    "    \"Machine learning is a field of artificial intelligence.\",\n",
    "    \"Artificial intelligence is transforming technology.\",\n",
    "    \"Deep learning is a part of machine learning based on neural networks.\",\n",
    "    \"Neural networks are a subset of machine learning algorithms.\"\n",
    "]\n",
    "\n",
    "query = \"artificial intelligence and machine learning\"\n",
    "\n"
   ]
  },
  {
   "cell_type": "code",
   "execution_count": 11,
   "metadata": {},
   "outputs": [
    {
     "name": "stdout",
     "output_type": "stream",
     "text": [
      "Top-3 most relevant documents for the query 'artificial intelligence and machine learning':\n",
      "\n",
      "Document 1: Machine learning is a field of artificial intelligence.\n",
      "Similarity: 0.9137438749108253\n",
      "\n",
      "Document 2: Artificial intelligence is transforming technology.\n",
      "Similarity: 0.8977128558083001\n",
      "\n",
      "Document 3: Deep learning is a part of machine learning based on neural networks.\n",
      "Similarity: 0.8615561835698318\n",
      "\n"
     ]
    }
   ],
   "source": [
    "# 각 문서에 대한 임베딩 벡터 계산\n",
    "document_embeddings = [get_embedding(doc) for doc in documents]\n",
    "\n",
    "# 쿼리 임베딩 벡터 계산\n",
    "query_embedding = get_embedding(query)\n",
    "\n",
    "# 각 문서와 쿼리 간의 유사도 계산\n",
    "similarities = [cosine_similarity_vectors(query_embedding, doc_embedding) for doc_embedding in document_embeddings]\n",
    "\n",
    "# 상위 K개의 문서 찾기\n",
    "top_k = 3\n",
    "top_k_indices = np.argsort(similarities)[::-1][:top_k]\n",
    "\n",
    "# 결과 출력\n",
    "print(f\"Top-{top_k} most relevant documents for the query '{query}':\\n\")\n",
    "for idx in top_k_indices:\n",
    "    print(f\"Document {idx + 1}: {documents[idx]}\")\n",
    "    print(f\"Similarity: {similarities[idx]}\\n\")"
   ]
  }
 ],
 "metadata": {
  "kernelspec": {
   "display_name": "myvenv",
   "language": "python",
   "name": "myvenv"
  },
  "language_info": {
   "codemirror_mode": {
    "name": "ipython",
    "version": 3
   },
   "file_extension": ".py",
   "mimetype": "text/x-python",
   "name": "python",
   "nbconvert_exporter": "python",
   "pygments_lexer": "ipython3",
   "version": "3.12.3"
  }
 },
 "nbformat": 4,
 "nbformat_minor": 2
}
