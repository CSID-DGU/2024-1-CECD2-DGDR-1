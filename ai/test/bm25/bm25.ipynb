{
 "cells": [
  {
   "cell_type": "code",
   "execution_count": null,
   "metadata": {
    "vscode": {
     "languageId": "python"
    }
   },
   "outputs": [],
   "source": [
    "#bm25 code\n",
    "from rank_bm25 import BM25Okapi\n",
    "from sklearn.feature_extraction.text import ENGLISH_STOP_WORDS\n",
    "import numpy as np\n",
    "\n",
    "# 문서와 쿼리 정의\n",
    "documents = [\n",
    "    \"Machine learning is a field of artificial intelligence.\",\n",
    "    \"Artificial intelligence is transforming technology.\",\n",
    "    \"Deep learning is a part of machine learning based on neural networks.\",\n",
    "    \"Neural networks are a subset of machine learning algorithms.\"\n",
    "]\n",
    "\n",
    "query = \"artificial intelligence and machine learning\"\n",
    "\n",
    "# 텍스트를 단어로 토큰화하는 간단한 함수\n",
    "def tokenize(doc):\n",
    "    return [word.lower() for word in doc.split() if word.lower() not in ENGLISH_STOP_WORDS]\n",
    "\n",
    "# 문서 토큰화\n",
    "tokenized_documents = [tokenize(doc) for doc in documents]\n",
    "\n",
    "# BM25 객체 생성\n",
    "bm25 = BM25Okapi(tokenized_documents)\n",
    "\n",
    "# 쿼리 토큰화\n",
    "tokenized_query = tokenize(query)\n",
    "\n",
    "# BM25 점수 계산 (각 문서와 쿼리 간의 유사도)\n",
    "doc_scores = bm25.get_scores(tokenized_query)\n",
    "\n",
    "# 가장 높은 점수의 문서 출력\n",
    "top_n = 3  # 상위 3개 문서만 출력\n",
    "top_n_indices = np.argsort(doc_scores)[::-1][:top_n]\n",
    "\n",
    "print(f\"Top-{top_n} most relevant documents for the query '{query}':\\n\")\n",
    "for index in top_n_indices:\n",
    "    print(f\"Document {index + 1}: {documents[index]}\")\n",
    "    print(f\"BM25 Score: {doc_scores[index]}\\n\")"
   ]
  }
 ],
 "metadata": {
  "kernelspec": {
   "display_name": "vanvenv",
   "language": "python",
   "name": "vanvenv"
  },
  "language_info": {
   "name": ""
  }
 },
 "nbformat": 4,
 "nbformat_minor": 4
}
