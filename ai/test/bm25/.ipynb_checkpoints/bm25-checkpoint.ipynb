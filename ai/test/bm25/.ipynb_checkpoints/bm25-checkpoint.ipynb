{
 "cells": [
  {
   "cell_type": "code",
   "execution_count": null,
   "metadata": {},
   "outputs": [],
   "source": [
    "#bm25 code"
   ]
  }
 ],
 "metadata": {
  "kernelspec": {
   "display_name": "vanvenv",
   "language": "python",
   "name": "vanvenv"
  },
  "language_info": {
   "name": ""
  }
 },
 "nbformat": 4,
 "nbformat_minor": 4
}
