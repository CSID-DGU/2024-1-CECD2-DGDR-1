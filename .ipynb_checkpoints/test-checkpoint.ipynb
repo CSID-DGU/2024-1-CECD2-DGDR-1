{
 "cells": [
  {
   "cell_type": "code",
   "execution_count": 19,
   "id": "17bdc110-28b4-401f-a84e-47c8af116642",
   "metadata": {
    "collapsed": true,
    "jupyter": {
     "outputs_hidden": true
    },
    "tags": []
   },
   "outputs": [
    {
     "name": "stdout",
     "output_type": "stream",
     "text": [
      "Collecting package metadata (current_repodata.json): / WARNING conda.models.version:get_matcher(546): Using .* with relational operator is superfluous and deprecated and will be removed in a future version of conda. Your spec was 1.7.1.*, but conda is ignoring the .* and treating it as 1.7.1\n",
      "done\n",
      "Solving environment: done\n",
      "\n",
      "\n",
      "==> WARNING: A newer version of conda exists. <==\n",
      "  current version: 23.3.1\n",
      "  latest version: 24.5.0\n",
      "\n",
      "Please update conda by running\n",
      "\n",
      "    $ conda update -n base -c conda-forge conda\n",
      "\n",
      "Or to minimize the number of packages updated during conda update use\n",
      "\n",
      "     conda install conda=24.5.0\n",
      "\n",
      "\n",
      "\n",
      "# All requested packages already installed.\n",
      "\n",
      "Collecting package metadata (current_repodata.json): \\ WARNING conda.models.version:get_matcher(546): Using .* with relational operator is superfluous and deprecated and will be removed in a future version of conda. Your spec was 1.7.1.*, but conda is ignoring the .* and treating it as 1.7.1\n",
      "done\n",
      "Solving environment: done\n",
      "\n",
      "\n",
      "==> WARNING: A newer version of conda exists. <==\n",
      "  current version: 23.3.1\n",
      "  latest version: 24.5.0\n",
      "\n",
      "Please update conda by running\n",
      "\n",
      "    $ conda update -n base -c conda-forge conda\n",
      "\n",
      "Or to minimize the number of packages updated during conda update use\n",
      "\n",
      "     conda install conda=24.5.0\n",
      "\n",
      "\n",
      "\n",
      "# All requested packages already installed.\n",
      "\n",
      "Requirement already satisfied: transformers==4.17.0 in /home/ec2-user/anaconda3/envs/pytorch_p310/lib/python3.10/site-packages (4.17.0)\n",
      "Requirement already satisfied: filelock in /home/ec2-user/anaconda3/envs/pytorch_p310/lib/python3.10/site-packages (from transformers==4.17.0) (3.13.3)\n",
      "Requirement already satisfied: huggingface-hub<1.0,>=0.1.0 in /home/ec2-user/anaconda3/envs/pytorch_p310/lib/python3.10/site-packages (from transformers==4.17.0) (0.23.0)\n",
      "Requirement already satisfied: numpy>=1.17 in /home/ec2-user/anaconda3/envs/pytorch_p310/lib/python3.10/site-packages (from transformers==4.17.0) (1.26.4)\n",
      "Requirement already satisfied: packaging>=20.0 in /home/ec2-user/anaconda3/envs/pytorch_p310/lib/python3.10/site-packages (from transformers==4.17.0) (21.3)\n",
      "Requirement already satisfied: pyyaml>=5.1 in /home/ec2-user/anaconda3/envs/pytorch_p310/lib/python3.10/site-packages (from transformers==4.17.0) (6.0.1)\n",
      "Requirement already satisfied: regex!=2019.12.17 in /home/ec2-user/anaconda3/envs/pytorch_p310/lib/python3.10/site-packages (from transformers==4.17.0) (2024.5.15)\n",
      "Requirement already satisfied: requests in /home/ec2-user/anaconda3/envs/pytorch_p310/lib/python3.10/site-packages (from transformers==4.17.0) (2.31.0)\n",
      "Requirement already satisfied: sacremoses in /home/ec2-user/anaconda3/envs/pytorch_p310/lib/python3.10/site-packages (from transformers==4.17.0) (0.1.1)\n",
      "Requirement already satisfied: tokenizers!=0.11.3,>=0.11.1 in /home/ec2-user/anaconda3/envs/pytorch_p310/lib/python3.10/site-packages (from transformers==4.17.0) (0.19.1)\n",
      "Requirement already satisfied: tqdm>=4.27 in /home/ec2-user/anaconda3/envs/pytorch_p310/lib/python3.10/site-packages (from transformers==4.17.0) (4.66.2)\n",
      "Requirement already satisfied: fsspec>=2023.5.0 in /home/ec2-user/anaconda3/envs/pytorch_p310/lib/python3.10/site-packages (from huggingface-hub<1.0,>=0.1.0->transformers==4.17.0) (2024.3.1)\n",
      "Requirement already satisfied: typing-extensions>=3.7.4.3 in /home/ec2-user/anaconda3/envs/pytorch_p310/lib/python3.10/site-packages (from huggingface-hub<1.0,>=0.1.0->transformers==4.17.0) (4.10.0)\n",
      "Requirement already satisfied: pyparsing!=3.0.5,>=2.0.2 in /home/ec2-user/anaconda3/envs/pytorch_p310/lib/python3.10/site-packages (from packaging>=20.0->transformers==4.17.0) (3.1.2)\n",
      "Requirement already satisfied: charset-normalizer<4,>=2 in /home/ec2-user/anaconda3/envs/pytorch_p310/lib/python3.10/site-packages (from requests->transformers==4.17.0) (3.3.2)\n",
      "Requirement already satisfied: idna<4,>=2.5 in /home/ec2-user/anaconda3/envs/pytorch_p310/lib/python3.10/site-packages (from requests->transformers==4.17.0) (3.6)\n",
      "Requirement already satisfied: urllib3<3,>=1.21.1 in /home/ec2-user/anaconda3/envs/pytorch_p310/lib/python3.10/site-packages (from requests->transformers==4.17.0) (2.2.1)\n",
      "Requirement already satisfied: certifi>=2017.4.17 in /home/ec2-user/anaconda3/envs/pytorch_p310/lib/python3.10/site-packages (from requests->transformers==4.17.0) (2024.2.2)\n",
      "Requirement already satisfied: click in /home/ec2-user/anaconda3/envs/pytorch_p310/lib/python3.10/site-packages (from sacremoses->transformers==4.17.0) (8.1.7)\n",
      "Requirement already satisfied: joblib in /home/ec2-user/anaconda3/envs/pytorch_p310/lib/python3.10/site-packages (from sacremoses->transformers==4.17.0) (1.3.2)\n",
      "Collecting kobert_tokenizer (from -r requirements.txt (line 8))\n",
      "  Cloning https://github.com/SKTBrain/KoBERT.git to /tmp/pip-install-u1i9ek5z/kobert-tokenizer_1e0a01502e724f679251e28681118c48\n",
      "  Running command git clone --filter=blob:none --quiet https://github.com/SKTBrain/KoBERT.git /tmp/pip-install-u1i9ek5z/kobert-tokenizer_1e0a01502e724f679251e28681118c48\n",
      "  Resolved https://github.com/SKTBrain/KoBERT.git to commit 47a69af87928fc24e20f571fe10c3cc9dd9af9a3\n",
      "  Preparing metadata (setup.py) ... \u001b[?25ldone\n",
      "\u001b[?25hRequirement already satisfied: sentencepiece in /home/ec2-user/anaconda3/envs/pytorch_p310/lib/python3.10/site-packages (from -r requirements.txt (line 1)) (0.2.0)\n",
      "Requirement already satisfied: pytest in /home/ec2-user/anaconda3/envs/pytorch_p310/lib/python3.10/site-packages (from -r requirements.txt (line 2)) (8.2.0)\n",
      "Requirement already satisfied: wandb in /home/ec2-user/anaconda3/envs/pytorch_p310/lib/python3.10/site-packages (from -r requirements.txt (line 3)) (0.17.0)\n",
      "Requirement already satisfied: tqdm in /home/ec2-user/anaconda3/envs/pytorch_p310/lib/python3.10/site-packages (from -r requirements.txt (line 4)) (4.66.2)\n",
      "Requirement already satisfied: numpy in /home/ec2-user/anaconda3/envs/pytorch_p310/lib/python3.10/site-packages (from -r requirements.txt (line 5)) (1.26.4)\n",
      "Requirement already satisfied: scipy in /home/ec2-user/anaconda3/envs/pytorch_p310/lib/python3.10/site-packages (from -r requirements.txt (line 6)) (1.12.0)\n",
      "Requirement already satisfied: pandas in /home/ec2-user/anaconda3/envs/pytorch_p310/lib/python3.10/site-packages (from -r requirements.txt (line 7)) (1.5.3)\n",
      "Requirement already satisfied: wikiextractor in /home/ec2-user/anaconda3/envs/pytorch_p310/lib/python3.10/site-packages (from -r requirements.txt (line 9)) (3.0.6)\n",
      "Requirement already satisfied: iniconfig in /home/ec2-user/anaconda3/envs/pytorch_p310/lib/python3.10/site-packages (from pytest->-r requirements.txt (line 2)) (2.0.0)\n",
      "Requirement already satisfied: packaging in /home/ec2-user/anaconda3/envs/pytorch_p310/lib/python3.10/site-packages (from pytest->-r requirements.txt (line 2)) (21.3)\n",
      "Requirement already satisfied: pluggy<2.0,>=1.5 in /home/ec2-user/anaconda3/envs/pytorch_p310/lib/python3.10/site-packages (from pytest->-r requirements.txt (line 2)) (1.5.0)\n",
      "Requirement already satisfied: exceptiongroup>=1.0.0rc8 in /home/ec2-user/anaconda3/envs/pytorch_p310/lib/python3.10/site-packages (from pytest->-r requirements.txt (line 2)) (1.2.0)\n",
      "Requirement already satisfied: tomli>=1 in /home/ec2-user/anaconda3/envs/pytorch_p310/lib/python3.10/site-packages (from pytest->-r requirements.txt (line 2)) (2.0.1)\n",
      "Requirement already satisfied: click!=8.0.0,>=7.1 in /home/ec2-user/anaconda3/envs/pytorch_p310/lib/python3.10/site-packages (from wandb->-r requirements.txt (line 3)) (8.1.7)\n",
      "Requirement already satisfied: docker-pycreds>=0.4.0 in /home/ec2-user/anaconda3/envs/pytorch_p310/lib/python3.10/site-packages (from wandb->-r requirements.txt (line 3)) (0.4.0)\n",
      "Requirement already satisfied: gitpython!=3.1.29,>=1.0.0 in /home/ec2-user/anaconda3/envs/pytorch_p310/lib/python3.10/site-packages (from wandb->-r requirements.txt (line 3)) (3.1.43)\n",
      "Requirement already satisfied: platformdirs in /home/ec2-user/anaconda3/envs/pytorch_p310/lib/python3.10/site-packages (from wandb->-r requirements.txt (line 3)) (4.2.0)\n",
      "Requirement already satisfied: protobuf!=4.21.0,<5,>=3.19.0 in /home/ec2-user/anaconda3/envs/pytorch_p310/lib/python3.10/site-packages (from wandb->-r requirements.txt (line 3)) (4.25.3)\n",
      "Requirement already satisfied: psutil>=5.0.0 in /home/ec2-user/anaconda3/envs/pytorch_p310/lib/python3.10/site-packages (from wandb->-r requirements.txt (line 3)) (5.9.8)\n",
      "Requirement already satisfied: pyyaml in /home/ec2-user/anaconda3/envs/pytorch_p310/lib/python3.10/site-packages (from wandb->-r requirements.txt (line 3)) (6.0.1)\n",
      "Requirement already satisfied: requests<3,>=2.0.0 in /home/ec2-user/anaconda3/envs/pytorch_p310/lib/python3.10/site-packages (from wandb->-r requirements.txt (line 3)) (2.31.0)\n",
      "Requirement already satisfied: sentry-sdk>=1.0.0 in /home/ec2-user/anaconda3/envs/pytorch_p310/lib/python3.10/site-packages (from wandb->-r requirements.txt (line 3)) (2.2.0)\n",
      "Requirement already satisfied: setproctitle in /home/ec2-user/anaconda3/envs/pytorch_p310/lib/python3.10/site-packages (from wandb->-r requirements.txt (line 3)) (1.3.3)\n",
      "Requirement already satisfied: setuptools in /home/ec2-user/anaconda3/envs/pytorch_p310/lib/python3.10/site-packages (from wandb->-r requirements.txt (line 3)) (69.2.0)\n",
      "Requirement already satisfied: python-dateutil>=2.8.1 in /home/ec2-user/anaconda3/envs/pytorch_p310/lib/python3.10/site-packages (from pandas->-r requirements.txt (line 7)) (2.9.0)\n",
      "Requirement already satisfied: pytz>=2020.1 in /home/ec2-user/anaconda3/envs/pytorch_p310/lib/python3.10/site-packages (from pandas->-r requirements.txt (line 7)) (2024.1)\n",
      "Requirement already satisfied: six>=1.4.0 in /home/ec2-user/anaconda3/envs/pytorch_p310/lib/python3.10/site-packages (from docker-pycreds>=0.4.0->wandb->-r requirements.txt (line 3)) (1.16.0)\n",
      "Requirement already satisfied: gitdb<5,>=4.0.1 in /home/ec2-user/anaconda3/envs/pytorch_p310/lib/python3.10/site-packages (from gitpython!=3.1.29,>=1.0.0->wandb->-r requirements.txt (line 3)) (4.0.11)\n",
      "Requirement already satisfied: charset-normalizer<4,>=2 in /home/ec2-user/anaconda3/envs/pytorch_p310/lib/python3.10/site-packages (from requests<3,>=2.0.0->wandb->-r requirements.txt (line 3)) (3.3.2)\n",
      "Requirement already satisfied: idna<4,>=2.5 in /home/ec2-user/anaconda3/envs/pytorch_p310/lib/python3.10/site-packages (from requests<3,>=2.0.0->wandb->-r requirements.txt (line 3)) (3.6)\n",
      "Requirement already satisfied: urllib3<3,>=1.21.1 in /home/ec2-user/anaconda3/envs/pytorch_p310/lib/python3.10/site-packages (from requests<3,>=2.0.0->wandb->-r requirements.txt (line 3)) (2.2.1)\n",
      "Requirement already satisfied: certifi>=2017.4.17 in /home/ec2-user/anaconda3/envs/pytorch_p310/lib/python3.10/site-packages (from requests<3,>=2.0.0->wandb->-r requirements.txt (line 3)) (2024.2.2)\n",
      "Requirement already satisfied: pyparsing!=3.0.5,>=2.0.2 in /home/ec2-user/anaconda3/envs/pytorch_p310/lib/python3.10/site-packages (from packaging->pytest->-r requirements.txt (line 2)) (3.1.2)\n",
      "Requirement already satisfied: smmap<6,>=3.0.1 in /home/ec2-user/anaconda3/envs/pytorch_p310/lib/python3.10/site-packages (from gitdb<5,>=4.0.1->gitpython!=3.1.29,>=1.0.0->wandb->-r requirements.txt (line 3)) (5.0.1)\n"
     ]
    }
   ],
   "source": [
    "import subprocess\n",
    "import sys\n",
    "import os\n",
    "#!pip install torch==1.10.1+cu111 -f https://download.pytorch.org/whl/cu111/torch_stable.html\n",
    "!conda install faiss-gpu -c pytorch -y\n",
    "!conda install mkl=2021 -y\n",
    "!{sys.executable} -m pip install -U transformers==4.17.0\n",
    "!{sys.executable} -m pip install -r requirements.txt\n",
    "!{sys.executable} -m pip install git+https://github.com/SKTBrain/KoBERT.git#egg=kobert_tokenizer&subdirectory=kobert_hf\n",
    "\n",
    "#!pip install -r requirements.txt"
   ]
  },
  {
   "cell_type": "code",
   "execution_count": 42,
   "id": "278a144e-ed40-49fb-a025-1b62339ade77",
   "metadata": {
    "tags": []
   },
   "outputs": [
    {
     "name": "stdout",
     "output_type": "stream",
     "text": [
      "The tokenizer class you load from this checkpoint is not the same type as the class this function is called from. It may result in unexpected tokenization. \n",
      "The tokenizer class you load from this checkpoint is 'XLNetTokenizer'. \n",
      "The class this function is called from is 'KoBERTTokenizer'.\n",
      "100%|█████████████████████████████████████████████| 1/1 [00:01<00:00,  1.29s/it]\n",
      "100%|███████████████████████████████████████████| 1/1 [00:00<00:00, 6043.67it/s]\n"
     ]
    }
   ],
   "source": [
    "!python chunk_data.py "
   ]
  },
  {
   "cell_type": "code",
   "execution_count": 44,
   "id": "d89070ad-b7e3-443b-836e-ffe3b3dfc46a",
   "metadata": {
    "tags": []
   },
   "outputs": [
    {
     "name": "stdout",
     "output_type": "stream",
     "text": [
      "The tokenizer class you load from this checkpoint is not the same type as the class this function is called from. It may result in unexpected tokenization. \n",
      "The tokenizer class you load from this checkpoint is 'XLNetTokenizer'. \n",
      "The class this function is called from is 'KoBERTTokenizer'.\n",
      "The tokenizer class you load from this checkpoint is not the same type as the class this function is called from. It may result in unexpected tokenization. \n",
      "The tokenizer class you load from this checkpoint is 'XLNetTokenizer'. \n",
      "The class this function is called from is 'KoBERTTokenizer'.\n",
      "epoch 1 batch: 100%|██████████████████████████████| 1/1 [00:00<00:00,  1.30it/s]\n",
      "epoch 2 batch: 100%|██████████████████████████████| 1/1 [00:00<00:00,  5.71it/s]\n",
      "epoch 3 batch: 100%|██████████████████████████████| 1/1 [00:00<00:00,  4.57it/s]\n",
      "epoch 4 batch: 100%|██████████████████████████████| 1/1 [00:00<00:00,  4.95it/s]\n",
      "epoch 5 batch: 100%|██████████████████████████████| 1/1 [00:00<00:00,  5.01it/s]\n",
      "epoch 6 batch: 100%|██████████████████████████████| 1/1 [00:00<00:00,  4.91it/s]\n",
      "epoch 7 batch: 100%|██████████████████████████████| 1/1 [00:00<00:00,  4.69it/s]\n",
      "epoch 8 batch: 100%|██████████████████████████████| 1/1 [00:00<00:00,  4.70it/s]\n",
      "epoch 9 batch: 100%|██████████████████████████████| 1/1 [00:00<00:00,  4.70it/s]\n",
      "epoch 10 batch: 100%|█████████████████████████████| 1/1 [00:00<00:00,  4.63it/s]\n",
      "epoch 11 batch: 100%|█████████████████████████████| 1/1 [00:00<00:00,  4.47it/s]\n",
      "epoch 12 batch: 100%|█████████████████████████████| 1/1 [00:00<00:00,  4.74it/s]\n",
      "epoch 13 batch: 100%|█████████████████████████████| 1/1 [00:00<00:00,  4.78it/s]\n",
      "epoch 14 batch: 100%|█████████████████████████████| 1/1 [00:00<00:00,  4.72it/s]\n",
      "epoch 15 batch: 100%|█████████████████████████████| 1/1 [00:00<00:00,  4.58it/s]\n",
      "epoch 16 batch: 100%|█████████████████████████████| 1/1 [00:00<00:00,  4.85it/s]\n",
      "epoch 17 batch: 100%|█████████████████████████████| 1/1 [00:00<00:00,  4.49it/s]\n",
      "epoch 18 batch: 100%|█████████████████████████████| 1/1 [00:00<00:00,  4.98it/s]\n",
      "epoch 19 batch: 100%|█████████████████████████████| 1/1 [00:00<00:00,  4.54it/s]\n",
      "epoch 20 batch: 100%|█████████████████████████████| 1/1 [00:00<00:00,  4.64it/s]\n",
      "epoch 21 batch: 100%|█████████████████████████████| 1/1 [00:00<00:00,  4.78it/s]\n",
      "epoch 22 batch: 100%|█████████████████████████████| 1/1 [00:00<00:00,  4.62it/s]\n",
      "epoch 23 batch: 100%|█████████████████████████████| 1/1 [00:00<00:00,  4.77it/s]\n",
      "epoch 24 batch: 100%|█████████████████████████████| 1/1 [00:00<00:00,  4.76it/s]\n",
      "epoch 25 batch: 100%|█████████████████████████████| 1/1 [00:00<00:00,  4.38it/s]\n",
      "epoch 26 batch: 100%|█████████████████████████████| 1/1 [00:00<00:00,  4.59it/s]\n",
      "epoch 27 batch: 100%|█████████████████████████████| 1/1 [00:00<00:00,  4.55it/s]\n",
      "epoch 28 batch: 100%|█████████████████████████████| 1/1 [00:00<00:00,  4.65it/s]\n",
      "epoch 29 batch: 100%|█████████████████████████████| 1/1 [00:00<00:00,  4.71it/s]\n",
      "epoch 30 batch: 100%|█████████████████████████████| 1/1 [00:17<00:00, 17.40s/it]\n",
      "epoch 31 batch: 100%|█████████████████████████████| 1/1 [00:00<00:00,  5.01it/s]\n",
      "epoch 32 batch: 100%|█████████████████████████████| 1/1 [00:00<00:00,  4.60it/s]\n",
      "epoch 33 batch: 100%|█████████████████████████████| 1/1 [00:00<00:00,  4.74it/s]\n",
      "epoch 34 batch: 100%|█████████████████████████████| 1/1 [00:00<00:00,  4.45it/s]\n",
      "epoch 35 batch: 100%|█████████████████████████████| 1/1 [00:00<00:00,  4.73it/s]\n",
      "epoch 36 batch: 100%|█████████████████████████████| 1/1 [00:00<00:00,  4.40it/s]\n",
      "epoch 37 batch: 100%|█████████████████████████████| 1/1 [00:00<00:00,  4.45it/s]\n",
      "epoch 38 batch: 100%|█████████████████████████████| 1/1 [00:00<00:00,  5.03it/s]\n",
      "epoch 39 batch: 100%|█████████████████████████████| 1/1 [00:00<00:00,  4.78it/s]\n",
      "epoch 40 batch: 100%|█████████████████████████████| 1/1 [00:00<00:00,  4.68it/s]\n"
     ]
    }
   ],
   "source": [
    "!python trainer.py"
   ]
  },
  {
   "cell_type": "code",
   "execution_count": 45,
   "id": "1a12cf20-c679-4c15-93e8-d82243c1f94c",
   "metadata": {
    "tags": []
   },
   "outputs": [
    {
     "name": "stderr",
     "output_type": "stream",
     "text": [
      "The tokenizer class you load from this checkpoint is not the same type as the class this function is called from. It may result in unexpected tokenization. \n",
      "The tokenizer class you load from this checkpoint is 'XLNetTokenizer'. \n",
      "The class this function is called from is 'KoBERTTokenizer'.\n"
     ]
    },
    {
     "data": {
      "text/plain": [
       "'[CLS] 당신은 누구입니까?[SEP]'"
      ]
     },
     "execution_count": 45,
     "metadata": {},
     "output_type": "execute_result"
    }
   ],
   "source": [
    "from kobert_tokenizer import KoBERTTokenizer\n",
    "tokenizer = KoBERTTokenizer.from_pretrained(\"skt/kobert-base-v1\")\n",
    "tokenizer.decode([2, 1618, 6733, 7086, 1528, 7138, 5771, 258, 3])"
   ]
  },
  {
   "cell_type": "code",
   "execution_count": 46,
   "id": "39d453d3-fc22-4206-90e1-5a1c99921430",
   "metadata": {
    "tags": []
   },
   "outputs": [
    {
     "name": "stdout",
     "output_type": "stream",
     "text": [
      "indexing: 1it [00:00,  1.61it/s]\n"
     ]
    }
   ],
   "source": [
    "!python index_runner.py"
   ]
  },
  {
   "cell_type": "code",
   "execution_count": 47,
   "id": "c9325df1-6c6c-45b0-91d3-dc46c2ef1269",
   "metadata": {
    "tags": []
   },
   "outputs": [],
   "source": [
    "!export CUDA_LAUNCH_BLOCKING=1\n"
   ]
  },
  {
   "cell_type": "code",
   "execution_count": 48,
   "id": "601b3c1d-2941-4364-af11-dd6d6b4d7a3e",
   "metadata": {
    "tags": []
   },
   "outputs": [
    {
     "name": "stdout",
     "output_type": "stream",
     "text": [
      "The tokenizer class you load from this checkpoint is not the same type as the class this function is called from. It may result in unexpected tokenization. \n",
      "The tokenizer class you load from this checkpoint is 'XLNetTokenizer'. \n",
      "The class this function is called from is 'KoBERTTokenizer'.\n",
      "/home/ec2-user/SageMaker/kordpr/retriever.py:82: UserWarning: To copy construct from a tensor, it is recommended to use sourceTensor.clone().detach() or sourceTensor.clone().detach().requires_grad_(True), rather than torch.tensor(sourceTensor).\n",
      "  out = self.model(T(tok[\"input_ids\"]), T(tok[\"attention_mask\"]), \"query\")\n",
      "passage : [CLS] 일 일 일 일 일 일[SEP], sim : 92.64324951171875\n",
      "passage : [CLS] 사 사 사 사 사 사[SEP], sim : 91.182861328125\n",
      "passage : [CLS] 십 십 십 십 십 십[SEP], sim : 87.8573989868164\n"
     ]
    }
   ],
   "source": [
    "!python retriever.py -q \"일 일 일 일 일 일\" -k 3"
   ]
  },
  {
   "cell_type": "code",
   "execution_count": null,
   "id": "ca15834a-2f0c-47ad-a87c-d8c622a9a0d8",
   "metadata": {},
   "outputs": [],
   "source": []
  }
 ],
 "metadata": {
  "kernelspec": {
   "display_name": "conda_pytorch_p310",
   "language": "python",
   "name": "conda_pytorch_p310"
  },
  "language_info": {
   "codemirror_mode": {
    "name": "ipython",
    "version": 3
   },
   "file_extension": ".py",
   "mimetype": "text/x-python",
   "name": "python",
   "nbconvert_exporter": "python",
   "pygments_lexer": "ipython3",
   "version": "3.10.14"
  }
 },
 "nbformat": 4,
 "nbformat_minor": 5
}
